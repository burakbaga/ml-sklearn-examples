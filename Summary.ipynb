{
 "cells": [
  {
   "cell_type": "code",
   "execution_count": 3,
   "metadata": {},
   "outputs": [],
   "source": [
    "from sklearn.linear_model import LogisticRegression\n",
    "from sklearn.tree import DecisionTreeClassifier\n",
    "from sklearn.svm import SVC\n",
    "from sklearn.neighbors import KNeighborsClassifier\n",
    "from sklearn.ensemble import BaggingClassifier,VotingClassifier,AdaBoostClassifier,GradientBoostingClassifier,RandomForestClassifier\n",
    "from sklearn.decomposition import PCA\n",
    "from sklearn.metrics import f1_score,precision_score,recall_score,accuracy_score\n",
    "from sklearn.model_selection import train_test_split,cross_val_score,GridSearchCV\n",
    "from sklearn.preprocessing import StandardScaler\n",
    "from sklearn.cluster import KMeans\n",
    "import pandas as pd\n",
    "import numpy as np\n",
    "import matplotlib.pyplot as plt\n",
    "\n",
    "np.random.seed(42)"
   ]
  },
  {
   "cell_type": "code",
   "execution_count": 4,
   "metadata": {},
   "outputs": [
    {
     "data": {
      "text/html": [
       "<div>\n",
       "<style scoped>\n",
       "    .dataframe tbody tr th:only-of-type {\n",
       "        vertical-align: middle;\n",
       "    }\n",
       "\n",
       "    .dataframe tbody tr th {\n",
       "        vertical-align: top;\n",
       "    }\n",
       "\n",
       "    .dataframe thead th {\n",
       "        text-align: right;\n",
       "    }\n",
       "</style>\n",
       "<table border=\"1\" class=\"dataframe\">\n",
       "  <thead>\n",
       "    <tr style=\"text-align: right;\">\n",
       "      <th></th>\n",
       "      <th>Sample code number</th>\n",
       "      <th>Clump Thickness</th>\n",
       "      <th>Uniformity of Cell Size</th>\n",
       "      <th>Uniformity of Cell Shape</th>\n",
       "      <th>Marginal Adhesion</th>\n",
       "      <th>Single Epithelial Cell Size</th>\n",
       "      <th>Bare Nuclei</th>\n",
       "      <th>Bland Chromatin</th>\n",
       "      <th>Normal Nucleoli</th>\n",
       "      <th>Mitoses</th>\n",
       "      <th>Class</th>\n",
       "    </tr>\n",
       "  </thead>\n",
       "  <tbody>\n",
       "    <tr>\n",
       "      <th>0</th>\n",
       "      <td>1000025</td>\n",
       "      <td>5</td>\n",
       "      <td>1</td>\n",
       "      <td>1</td>\n",
       "      <td>1</td>\n",
       "      <td>2</td>\n",
       "      <td>1</td>\n",
       "      <td>3</td>\n",
       "      <td>1</td>\n",
       "      <td>1</td>\n",
       "      <td>2</td>\n",
       "    </tr>\n",
       "    <tr>\n",
       "      <th>1</th>\n",
       "      <td>1002945</td>\n",
       "      <td>5</td>\n",
       "      <td>4</td>\n",
       "      <td>4</td>\n",
       "      <td>5</td>\n",
       "      <td>7</td>\n",
       "      <td>10</td>\n",
       "      <td>3</td>\n",
       "      <td>2</td>\n",
       "      <td>1</td>\n",
       "      <td>2</td>\n",
       "    </tr>\n",
       "    <tr>\n",
       "      <th>2</th>\n",
       "      <td>1015425</td>\n",
       "      <td>3</td>\n",
       "      <td>1</td>\n",
       "      <td>1</td>\n",
       "      <td>1</td>\n",
       "      <td>2</td>\n",
       "      <td>2</td>\n",
       "      <td>3</td>\n",
       "      <td>1</td>\n",
       "      <td>1</td>\n",
       "      <td>2</td>\n",
       "    </tr>\n",
       "    <tr>\n",
       "      <th>3</th>\n",
       "      <td>1016277</td>\n",
       "      <td>6</td>\n",
       "      <td>8</td>\n",
       "      <td>8</td>\n",
       "      <td>1</td>\n",
       "      <td>3</td>\n",
       "      <td>4</td>\n",
       "      <td>3</td>\n",
       "      <td>7</td>\n",
       "      <td>1</td>\n",
       "      <td>2</td>\n",
       "    </tr>\n",
       "    <tr>\n",
       "      <th>4</th>\n",
       "      <td>1017023</td>\n",
       "      <td>4</td>\n",
       "      <td>1</td>\n",
       "      <td>1</td>\n",
       "      <td>3</td>\n",
       "      <td>2</td>\n",
       "      <td>1</td>\n",
       "      <td>3</td>\n",
       "      <td>1</td>\n",
       "      <td>1</td>\n",
       "      <td>2</td>\n",
       "    </tr>\n",
       "  </tbody>\n",
       "</table>\n",
       "</div>"
      ],
      "text/plain": [
       "   Sample code number  Clump Thickness  Uniformity of Cell Size  \\\n",
       "0             1000025                5                        1   \n",
       "1             1002945                5                        4   \n",
       "2             1015425                3                        1   \n",
       "3             1016277                6                        8   \n",
       "4             1017023                4                        1   \n",
       "\n",
       "   Uniformity of Cell Shape  Marginal Adhesion  Single Epithelial Cell Size  \\\n",
       "0                         1                  1                            2   \n",
       "1                         4                  5                            7   \n",
       "2                         1                  1                            2   \n",
       "3                         8                  1                            3   \n",
       "4                         1                  3                            2   \n",
       "\n",
       "  Bare Nuclei  Bland Chromatin  Normal Nucleoli  Mitoses  Class  \n",
       "0           1                3                1        1      2  \n",
       "1          10                3                2        1      2  \n",
       "2           2                3                1        1      2  \n",
       "3           4                3                7        1      2  \n",
       "4           1                3                1        1      2  "
      ]
     },
     "execution_count": 4,
     "metadata": {},
     "output_type": "execute_result"
    }
   ],
   "source": [
    "columns = [\"Sample code number\",\"Clump Thickness\",\"Uniformity of Cell Size\",\"Uniformity of Cell Shape\",\"Marginal Adhesion\",\"Single Epithelial Cell Size\",\"Bare Nuclei\",\"Bland Chromatin\",\"Normal Nucleoli\",\"Mitoses\",\"Class\"]\n",
    "data = pd.read_csv(\"D:/MachineLearningCourse/Datasets/cancer.csv\",names=columns,header=None)\n",
    "data.head()"
   ]
  },
  {
   "cell_type": "code",
   "execution_count": 5,
   "metadata": {},
   "outputs": [],
   "source": [
    "data.drop([\"Sample code number\"],inplace=True,axis=1)\n",
    "data = data.replace(\"?\",0)\n",
    "data[\"Bare Nuclei\"] = data[\"Bare Nuclei\"].astype(int)"
   ]
  },
  {
   "cell_type": "code",
   "execution_count": 6,
   "metadata": {},
   "outputs": [],
   "source": [
    "X = data.iloc[:,:9]\n",
    "y = data.iloc[:,9]\n",
    "y = np.where(y==2,0,1)"
   ]
  },
  {
   "cell_type": "code",
   "execution_count": 7,
   "metadata": {},
   "outputs": [],
   "source": [
    "X_train,X_test,y_train,y_test = train_test_split(X,y,test_size=.3)"
   ]
  },
  {
   "cell_type": "code",
   "execution_count": 8,
   "metadata": {},
   "outputs": [],
   "source": [
    "scaler = StandardScaler()\n",
    "X_train = scaler.fit_transform(X_train)\n",
    "X_test = scaler.transform(X_test)"
   ]
  },
  {
   "cell_type": "code",
   "execution_count": 9,
   "metadata": {},
   "outputs": [],
   "source": [
    "def evaluate(clf,name):\n",
    "    clf.fit(X_train,y_train)\n",
    "    y_pred = clf.predict(X_test)\n",
    "    print(name)\n",
    "    print(\"Accuracy Score : \",accuracy_score(y_test,y_pred))\n",
    "    print(\"Precision Score : \",precision_score(y_test,y_pred))\n",
    "    print(\"Recall Score : \",recall_score(y_test,y_pred))    \n",
    "    print(\"F1 Score : \",f1_score(y_test,y_pred)) \n",
    "    print(\"Cross val Score : \",cross_val_score(clf,X_test,y_test,cv=10).mean())\n",
    "    print(\"-----\"*10)"
   ]
  },
  {
   "cell_type": "code",
   "execution_count": 10,
   "metadata": {},
   "outputs": [
    {
     "name": "stdout",
     "output_type": "stream",
     "text": [
      "Logistic Regression\n",
      "Accuracy Score :  0.9666666666666667\n",
      "Precision Score :  0.96875\n",
      "Recall Score :  0.9253731343283582\n",
      "F1 Score :  0.9465648854961832\n",
      "Cross val Score :  0.9619047619047618\n",
      "--------------------------------------------------\n",
      "Decision Tree\n",
      "Accuracy Score :  0.9523809523809523\n",
      "Precision Score :  0.9384615384615385\n",
      "Recall Score :  0.9104477611940298\n",
      "F1 Score :  0.9242424242424243\n",
      "Cross val Score :  0.9238095238095237\n",
      "--------------------------------------------------\n",
      "SVC\n",
      "Accuracy Score :  0.9761904761904762\n",
      "Precision Score :  0.9696969696969697\n",
      "Recall Score :  0.9552238805970149\n",
      "F1 Score :  0.9624060150375939\n",
      "Cross val Score :  0.9619047619047618\n",
      "--------------------------------------------------\n",
      "KNN\n",
      "Accuracy Score :  0.9666666666666667\n",
      "Precision Score :  0.96875\n",
      "Recall Score :  0.9253731343283582\n",
      "F1 Score :  0.9465648854961832\n",
      "Cross val Score :  0.9619047619047618\n",
      "--------------------------------------------------\n"
     ]
    }
   ],
   "source": [
    "lr = LogisticRegression()\n",
    "cart = DecisionTreeClassifier()\n",
    "svc = SVC()\n",
    "knn = KNeighborsClassifier()\n",
    "\n",
    "evaluate(lr,\"Logistic Regression\")\n",
    "evaluate(cart,\"Decision Tree\")\n",
    "evaluate(svc,\"SVC\")\n",
    "evaluate(knn,\"KNN\")"
   ]
  },
  {
   "cell_type": "code",
   "execution_count": 11,
   "metadata": {},
   "outputs": [
    {
     "name": "stdout",
     "output_type": "stream",
     "text": [
      "Bagging Classifier\n",
      "Accuracy Score :  0.9666666666666667\n",
      "Precision Score :  0.9545454545454546\n",
      "Recall Score :  0.9402985074626866\n",
      "F1 Score :  0.9473684210526316\n",
      "Cross val Score :  0.9571428571428571\n",
      "--------------------------------------------------\n"
     ]
    }
   ],
   "source": [
    "tree = DecisionTreeClassifier()\n",
    "model = BaggingClassifier(tree,n_estimators=100)\n",
    "model.fit(X_train,y_train)\n",
    "evaluate(model,\"Bagging Classifier\")"
   ]
  },
  {
   "cell_type": "code",
   "execution_count": 12,
   "metadata": {},
   "outputs": [
    {
     "name": "stdout",
     "output_type": "stream",
     "text": [
      "Voting Classifier\n",
      "Accuracy Score :  0.9761904761904762\n",
      "Precision Score :  0.9696969696969697\n",
      "Recall Score :  0.9552238805970149\n",
      "F1 Score :  0.9624060150375939\n",
      "Cross val Score :  0.9619047619047618\n",
      "--------------------------------------------------\n"
     ]
    }
   ],
   "source": [
    "estimators = []\n",
    "\n",
    "lr = LogisticRegression()\n",
    "estimators.append((\"Logistic\",lr))\n",
    "tree = DecisionTreeClassifier()\n",
    "estimators.append((\"Decision\",tree))\n",
    "knn = KNeighborsClassifier()\n",
    "estimators.append((\"knn\",knn))\n",
    "svc = SVC()\n",
    "estimators.append((\"svc\",svc))\n",
    "\n",
    "voting = VotingClassifier(estimators)\n",
    "evaluate(voting,\"Voting Classifier\")"
   ]
  },
  {
   "cell_type": "code",
   "execution_count": 13,
   "metadata": {},
   "outputs": [
    {
     "name": "stdout",
     "output_type": "stream",
     "text": [
      "AdaBoost Classifier\n",
      "Accuracy Score :  0.9714285714285714\n",
      "Precision Score :  0.9692307692307692\n",
      "Recall Score :  0.9402985074626866\n",
      "F1 Score :  0.9545454545454547\n",
      "Cross val Score :  0.9714285714285713\n",
      "--------------------------------------------------\n"
     ]
    }
   ],
   "source": [
    "tree = DecisionTreeClassifier(max_depth=2)\n",
    "adaboost = AdaBoostClassifier(tree,n_estimators=100)\n",
    "evaluate(adaboost,\"AdaBoost Classifier\")"
   ]
  },
  {
   "cell_type": "code",
   "execution_count": 14,
   "metadata": {},
   "outputs": [
    {
     "name": "stdout",
     "output_type": "stream",
     "text": [
      "GradientBoosting Classifier\n",
      "Accuracy Score :  0.9666666666666667\n",
      "Precision Score :  0.9545454545454546\n",
      "Recall Score :  0.9402985074626866\n",
      "F1 Score :  0.9473684210526316\n",
      "Cross val Score :  0.9666666666666666\n",
      "--------------------------------------------------\n"
     ]
    }
   ],
   "source": [
    "gradient_boost = GradientBoostingClassifier()\n",
    "evaluate(gradient_boost,\"GradientBoosting Classifier\")"
   ]
  },
  {
   "cell_type": "code",
   "execution_count": 15,
   "metadata": {},
   "outputs": [
    {
     "name": "stdout",
     "output_type": "stream",
     "text": [
      "RandomForest Classifier\n",
      "Accuracy Score :  0.9809523809523809\n",
      "Precision Score :  0.9436619718309859\n",
      "Recall Score :  1.0\n",
      "F1 Score :  0.9710144927536231\n",
      "Cross val Score :  0.9619047619047618\n",
      "--------------------------------------------------\n"
     ]
    }
   ],
   "source": [
    "rfc = RandomForestClassifier(n_estimators=200,max_depth=2)\n",
    "evaluate(rfc,\"RandomForest Classifier\")"
   ]
  },
  {
   "cell_type": "code",
   "execution_count": 16,
   "metadata": {},
   "outputs": [],
   "source": [
    "def evaluate_pca(clf,name):\n",
    "    clf.fit(X_train_pca,y_train)\n",
    "    y_pred = clf.predict(X_test_pca)\n",
    "    print(name)\n",
    "    print(\"Accuracy Score : \",accuracy_score(y_test,y_pred))\n",
    "    print(\"Precision Score : \",precision_score(y_test,y_pred))\n",
    "    print(\"Recall Score : \",recall_score(y_test,y_pred))    \n",
    "    print(\"F1 Score : \",f1_score(y_test,y_pred)) \n",
    "    print(\"Cross val Score : \",cross_val_score(clf,X_test,y_test,cv=10).mean())\n",
    "    print(\"-----\"*10)"
   ]
  },
  {
   "cell_type": "code",
   "execution_count": 17,
   "metadata": {},
   "outputs": [
    {
     "data": {
      "text/plain": [
       "PCA(copy=True, iterated_power='auto', n_components=2, random_state=None,\n",
       "    svd_solver='auto', tol=0.0, whiten=False)"
      ]
     },
     "execution_count": 17,
     "metadata": {},
     "output_type": "execute_result"
    }
   ],
   "source": [
    "pca = PCA(n_components=2)\n",
    "pca.fit(X_train)"
   ]
  },
  {
   "cell_type": "code",
   "execution_count": 18,
   "metadata": {},
   "outputs": [],
   "source": [
    "X_train_pca = pca.transform(X_train)\n",
    "X_test_pca = pca.transform(X_test)"
   ]
  },
  {
   "cell_type": "code",
   "execution_count": 19,
   "metadata": {},
   "outputs": [
    {
     "name": "stdout",
     "output_type": "stream",
     "text": [
      "Logistic Regression\n",
      "Accuracy Score :  0.9666666666666667\n",
      "Precision Score :  0.9411764705882353\n",
      "Recall Score :  0.9552238805970149\n",
      "F1 Score :  0.9481481481481482\n",
      "Cross val Score :  0.9619047619047618\n",
      "--------------------------------------------------\n",
      "Decision Tree\n",
      "Accuracy Score :  0.9619047619047619\n",
      "Precision Score :  0.9682539682539683\n",
      "Recall Score :  0.9104477611940298\n",
      "F1 Score :  0.9384615384615386\n",
      "Cross val Score :  0.919047619047619\n",
      "--------------------------------------------------\n",
      "SVC\n",
      "Accuracy Score :  0.9714285714285714\n",
      "Precision Score :  0.9420289855072463\n",
      "Recall Score :  0.9701492537313433\n",
      "F1 Score :  0.9558823529411764\n",
      "Cross val Score :  0.9619047619047618\n",
      "--------------------------------------------------\n",
      "KNN\n",
      "Accuracy Score :  0.9666666666666667\n",
      "Precision Score :  0.9411764705882353\n",
      "Recall Score :  0.9552238805970149\n",
      "F1 Score :  0.9481481481481482\n",
      "Cross val Score :  0.9619047619047618\n",
      "--------------------------------------------------\n"
     ]
    }
   ],
   "source": [
    "lr = LogisticRegression()\n",
    "cart = DecisionTreeClassifier()\n",
    "svc = SVC()\n",
    "knn = KNeighborsClassifier()\n",
    "\n",
    "evaluate_pca(lr,\"Logistic Regression\")\n",
    "evaluate_pca(cart,\"Decision Tree\")\n",
    "evaluate_pca(svc,\"SVC\")\n",
    "evaluate_pca(knn,\"KNN\")"
   ]
  },
  {
   "cell_type": "code",
   "execution_count": 20,
   "metadata": {},
   "outputs": [
    {
     "data": {
      "text/plain": [
       "KMeans(algorithm='auto', copy_x=True, init='k-means++', max_iter=300,\n",
       "       n_clusters=2, n_init=10, n_jobs=None, precompute_distances='auto',\n",
       "       random_state=None, tol=0.0001, verbose=0)"
      ]
     },
     "execution_count": 20,
     "metadata": {},
     "output_type": "execute_result"
    }
   ],
   "source": [
    "kmeans = KMeans(n_clusters=2)\n",
    "kmeans.fit(X_train_pca,y_train)"
   ]
  },
  {
   "cell_type": "code",
   "execution_count": 21,
   "metadata": {},
   "outputs": [],
   "source": [
    "centroids = kmeans.cluster_centers_"
   ]
  },
  {
   "cell_type": "code",
   "execution_count": 22,
   "metadata": {},
   "outputs": [
    {
     "data": {
      "text/plain": [
       "<matplotlib.collections.PathCollection at 0x1f10a7892c8>"
      ]
     },
     "execution_count": 22,
     "metadata": {},
     "output_type": "execute_result"
    },
    {
     "data": {
      "image/png": "[encoded data removed]",
      "text/plain": [
       "<Figure size 432x288 with 1 Axes>"
      ]
     },
     "metadata": {
      "needs_background": "light"
     },
     "output_type": "display_data"
    }
   ],
   "source": [
    "plt.scatter(X_train_pca[:,0],X_train_pca[:,1],c=kmeans.labels_.astype(\"float\"),s=50)\n",
    "plt.scatter(centroids[:,0],centroids[:,1],c=\"r\")"
   ]
  },
  {
   "cell_type": "code",
   "execution_count": 23,
   "metadata": {},
   "outputs": [],
   "source": [
    "grid_params = {'criterion':[\"gini\",\"entropy\"],'max_depth':np.arange(5,50)}\n",
    "\n",
    "tree = DecisionTreeClassifier()\n",
    "grid_search = GridSearchCV(tree,grid_params,cv=10)"
   ]
  },
  {
   "cell_type": "code",
   "execution_count": 24,
   "metadata": {},
   "outputs": [
    {
     "name": "stdout",
     "output_type": "stream",
     "text": [
      "GridSearchCV\n",
      "Accuracy Score :  0.9333333333333333\n",
      "Precision Score :  0.9076923076923077\n",
      "Recall Score :  0.8805970149253731\n",
      "F1 Score :  0.8939393939393939\n",
      "Cross val Score :  0.9523809523809523\n",
      "--------------------------------------------------\n"
     ]
    }
   ],
   "source": [
    "evaluate(grid_search,\"GridSearchCV\")"
   ]
  },
  {
   "cell_type": "code",
   "execution_count": 25,
   "metadata": {},
   "outputs": [
    {
     "data": {
      "text/plain": [
       "{'criterion': 'entropy', 'max_depth': 41}"
      ]
     },
     "execution_count": 25,
     "metadata": {},
     "output_type": "execute_result"
    }
   ],
   "source": [
    "grid_search.best_params_"
   ]
  },
  {
   "cell_type": "code",
   "execution_count": null,
   "metadata": {},
   "outputs": [],
   "source": []
  }
 ],
 "metadata": {
  "kernelspec": {
   "display_name": "Python 3",
   "language": "python",
   "name": "python3"
  },
  "language_info": {
   "codemirror_mode": {
    "name": "ipython",
    "version": 3
   },
   "file_extension": ".py",
   "mimetype": "text/x-python",
   "name": "python",
   "nbconvert_exporter": "python",
   "pygments_lexer": "ipython3",
   "version": "3.7.4"
  }
 },
 "nbformat": 4,
 "nbformat_minor": 4
}
